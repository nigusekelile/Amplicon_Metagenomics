{
 "cells": [
  {
   "cell_type": "code",
   "execution_count": 1,
   "id": "cb05dbde-0893-42cf-b85e-4bf78f5867c9",
   "metadata": {},
   "outputs": [
    {
     "ename": "FileNotFoundError",
     "evalue": "[Errno 2] No such file or directory: 'taxonomy_extracted/data/taxonomy.tsv'",
     "output_type": "error",
     "traceback": [
      "\u001b[0;31m---------------------------------------------------------------------------\u001b[0m",
      "\u001b[0;31mFileNotFoundError\u001b[0m                         Traceback (most recent call last)",
      "Cell \u001b[0;32mIn[1], line 23\u001b[0m\n\u001b[1;32m     21\u001b[0m \u001b[38;5;66;03m# Load taxonomy.tsv\u001b[39;00m\n\u001b[1;32m     22\u001b[0m taxonomy_fp \u001b[38;5;241m=\u001b[39m os\u001b[38;5;241m.\u001b[39mpath\u001b[38;5;241m.\u001b[39mjoin(extract_dir_tax, \u001b[38;5;124m\"\u001b[39m\u001b[38;5;124mdata\u001b[39m\u001b[38;5;124m\"\u001b[39m, \u001b[38;5;124m\"\u001b[39m\u001b[38;5;124mtaxonomy.tsv\u001b[39m\u001b[38;5;124m\"\u001b[39m)\n\u001b[0;32m---> 23\u001b[0m taxonomy_df \u001b[38;5;241m=\u001b[39m \u001b[43mpd\u001b[49m\u001b[38;5;241;43m.\u001b[39;49m\u001b[43mread_csv\u001b[49m\u001b[43m(\u001b[49m\u001b[43mtaxonomy_fp\u001b[49m\u001b[43m,\u001b[49m\u001b[43m \u001b[49m\u001b[43msep\u001b[49m\u001b[38;5;241;43m=\u001b[39;49m\u001b[38;5;124;43m'\u001b[39;49m\u001b[38;5;130;43;01m\\t\u001b[39;49;00m\u001b[38;5;124;43m'\u001b[39;49m\u001b[43m)\u001b[49m\n\u001b[1;32m     25\u001b[0m \u001b[38;5;66;03m# Load feature table biom (converting to TSV first)\u001b[39;00m\n\u001b[1;32m     26\u001b[0m biom_fp \u001b[38;5;241m=\u001b[39m os\u001b[38;5;241m.\u001b[39mpath\u001b[38;5;241m.\u001b[39mjoin(extract_dir_table, \u001b[38;5;124m\"\u001b[39m\u001b[38;5;124mdata\u001b[39m\u001b[38;5;124m\"\u001b[39m, \u001b[38;5;124m\"\u001b[39m\u001b[38;5;124mfeature-table.tsv\u001b[39m\u001b[38;5;124m\"\u001b[39m)\n",
      "File \u001b[0;32m/home/betin/anaconda3/lib/python3.12/site-packages/pandas/io/parsers/readers.py:1026\u001b[0m, in \u001b[0;36mread_csv\u001b[0;34m(filepath_or_buffer, sep, delimiter, header, names, index_col, usecols, dtype, engine, converters, true_values, false_values, skipinitialspace, skiprows, skipfooter, nrows, na_values, keep_default_na, na_filter, verbose, skip_blank_lines, parse_dates, infer_datetime_format, keep_date_col, date_parser, date_format, dayfirst, cache_dates, iterator, chunksize, compression, thousands, decimal, lineterminator, quotechar, quoting, doublequote, escapechar, comment, encoding, encoding_errors, dialect, on_bad_lines, delim_whitespace, low_memory, memory_map, float_precision, storage_options, dtype_backend)\u001b[0m\n\u001b[1;32m   1013\u001b[0m kwds_defaults \u001b[38;5;241m=\u001b[39m _refine_defaults_read(\n\u001b[1;32m   1014\u001b[0m     dialect,\n\u001b[1;32m   1015\u001b[0m     delimiter,\n\u001b[0;32m   (...)\u001b[0m\n\u001b[1;32m   1022\u001b[0m     dtype_backend\u001b[38;5;241m=\u001b[39mdtype_backend,\n\u001b[1;32m   1023\u001b[0m )\n\u001b[1;32m   1024\u001b[0m kwds\u001b[38;5;241m.\u001b[39mupdate(kwds_defaults)\n\u001b[0;32m-> 1026\u001b[0m \u001b[38;5;28;01mreturn\u001b[39;00m \u001b[43m_read\u001b[49m\u001b[43m(\u001b[49m\u001b[43mfilepath_or_buffer\u001b[49m\u001b[43m,\u001b[49m\u001b[43m \u001b[49m\u001b[43mkwds\u001b[49m\u001b[43m)\u001b[49m\n",
      "File \u001b[0;32m/home/betin/anaconda3/lib/python3.12/site-packages/pandas/io/parsers/readers.py:620\u001b[0m, in \u001b[0;36m_read\u001b[0;34m(filepath_or_buffer, kwds)\u001b[0m\n\u001b[1;32m    617\u001b[0m _validate_names(kwds\u001b[38;5;241m.\u001b[39mget(\u001b[38;5;124m\"\u001b[39m\u001b[38;5;124mnames\u001b[39m\u001b[38;5;124m\"\u001b[39m, \u001b[38;5;28;01mNone\u001b[39;00m))\n\u001b[1;32m    619\u001b[0m \u001b[38;5;66;03m# Create the parser.\u001b[39;00m\n\u001b[0;32m--> 620\u001b[0m parser \u001b[38;5;241m=\u001b[39m \u001b[43mTextFileReader\u001b[49m\u001b[43m(\u001b[49m\u001b[43mfilepath_or_buffer\u001b[49m\u001b[43m,\u001b[49m\u001b[43m \u001b[49m\u001b[38;5;241;43m*\u001b[39;49m\u001b[38;5;241;43m*\u001b[39;49m\u001b[43mkwds\u001b[49m\u001b[43m)\u001b[49m\n\u001b[1;32m    622\u001b[0m \u001b[38;5;28;01mif\u001b[39;00m chunksize \u001b[38;5;129;01mor\u001b[39;00m iterator:\n\u001b[1;32m    623\u001b[0m     \u001b[38;5;28;01mreturn\u001b[39;00m parser\n",
      "File \u001b[0;32m/home/betin/anaconda3/lib/python3.12/site-packages/pandas/io/parsers/readers.py:1620\u001b[0m, in \u001b[0;36mTextFileReader.__init__\u001b[0;34m(self, f, engine, **kwds)\u001b[0m\n\u001b[1;32m   1617\u001b[0m     \u001b[38;5;28mself\u001b[39m\u001b[38;5;241m.\u001b[39moptions[\u001b[38;5;124m\"\u001b[39m\u001b[38;5;124mhas_index_names\u001b[39m\u001b[38;5;124m\"\u001b[39m] \u001b[38;5;241m=\u001b[39m kwds[\u001b[38;5;124m\"\u001b[39m\u001b[38;5;124mhas_index_names\u001b[39m\u001b[38;5;124m\"\u001b[39m]\n\u001b[1;32m   1619\u001b[0m \u001b[38;5;28mself\u001b[39m\u001b[38;5;241m.\u001b[39mhandles: IOHandles \u001b[38;5;241m|\u001b[39m \u001b[38;5;28;01mNone\u001b[39;00m \u001b[38;5;241m=\u001b[39m \u001b[38;5;28;01mNone\u001b[39;00m\n\u001b[0;32m-> 1620\u001b[0m \u001b[38;5;28mself\u001b[39m\u001b[38;5;241m.\u001b[39m_engine \u001b[38;5;241m=\u001b[39m \u001b[38;5;28;43mself\u001b[39;49m\u001b[38;5;241;43m.\u001b[39;49m\u001b[43m_make_engine\u001b[49m\u001b[43m(\u001b[49m\u001b[43mf\u001b[49m\u001b[43m,\u001b[49m\u001b[43m \u001b[49m\u001b[38;5;28;43mself\u001b[39;49m\u001b[38;5;241;43m.\u001b[39;49m\u001b[43mengine\u001b[49m\u001b[43m)\u001b[49m\n",
      "File \u001b[0;32m/home/betin/anaconda3/lib/python3.12/site-packages/pandas/io/parsers/readers.py:1880\u001b[0m, in \u001b[0;36mTextFileReader._make_engine\u001b[0;34m(self, f, engine)\u001b[0m\n\u001b[1;32m   1878\u001b[0m     \u001b[38;5;28;01mif\u001b[39;00m \u001b[38;5;124m\"\u001b[39m\u001b[38;5;124mb\u001b[39m\u001b[38;5;124m\"\u001b[39m \u001b[38;5;129;01mnot\u001b[39;00m \u001b[38;5;129;01min\u001b[39;00m mode:\n\u001b[1;32m   1879\u001b[0m         mode \u001b[38;5;241m+\u001b[39m\u001b[38;5;241m=\u001b[39m \u001b[38;5;124m\"\u001b[39m\u001b[38;5;124mb\u001b[39m\u001b[38;5;124m\"\u001b[39m\n\u001b[0;32m-> 1880\u001b[0m \u001b[38;5;28mself\u001b[39m\u001b[38;5;241m.\u001b[39mhandles \u001b[38;5;241m=\u001b[39m \u001b[43mget_handle\u001b[49m\u001b[43m(\u001b[49m\n\u001b[1;32m   1881\u001b[0m \u001b[43m    \u001b[49m\u001b[43mf\u001b[49m\u001b[43m,\u001b[49m\n\u001b[1;32m   1882\u001b[0m \u001b[43m    \u001b[49m\u001b[43mmode\u001b[49m\u001b[43m,\u001b[49m\n\u001b[1;32m   1883\u001b[0m \u001b[43m    \u001b[49m\u001b[43mencoding\u001b[49m\u001b[38;5;241;43m=\u001b[39;49m\u001b[38;5;28;43mself\u001b[39;49m\u001b[38;5;241;43m.\u001b[39;49m\u001b[43moptions\u001b[49m\u001b[38;5;241;43m.\u001b[39;49m\u001b[43mget\u001b[49m\u001b[43m(\u001b[49m\u001b[38;5;124;43m\"\u001b[39;49m\u001b[38;5;124;43mencoding\u001b[39;49m\u001b[38;5;124;43m\"\u001b[39;49m\u001b[43m,\u001b[49m\u001b[43m \u001b[49m\u001b[38;5;28;43;01mNone\u001b[39;49;00m\u001b[43m)\u001b[49m\u001b[43m,\u001b[49m\n\u001b[1;32m   1884\u001b[0m \u001b[43m    \u001b[49m\u001b[43mcompression\u001b[49m\u001b[38;5;241;43m=\u001b[39;49m\u001b[38;5;28;43mself\u001b[39;49m\u001b[38;5;241;43m.\u001b[39;49m\u001b[43moptions\u001b[49m\u001b[38;5;241;43m.\u001b[39;49m\u001b[43mget\u001b[49m\u001b[43m(\u001b[49m\u001b[38;5;124;43m\"\u001b[39;49m\u001b[38;5;124;43mcompression\u001b[39;49m\u001b[38;5;124;43m\"\u001b[39;49m\u001b[43m,\u001b[49m\u001b[43m \u001b[49m\u001b[38;5;28;43;01mNone\u001b[39;49;00m\u001b[43m)\u001b[49m\u001b[43m,\u001b[49m\n\u001b[1;32m   1885\u001b[0m \u001b[43m    \u001b[49m\u001b[43mmemory_map\u001b[49m\u001b[38;5;241;43m=\u001b[39;49m\u001b[38;5;28;43mself\u001b[39;49m\u001b[38;5;241;43m.\u001b[39;49m\u001b[43moptions\u001b[49m\u001b[38;5;241;43m.\u001b[39;49m\u001b[43mget\u001b[49m\u001b[43m(\u001b[49m\u001b[38;5;124;43m\"\u001b[39;49m\u001b[38;5;124;43mmemory_map\u001b[39;49m\u001b[38;5;124;43m\"\u001b[39;49m\u001b[43m,\u001b[49m\u001b[43m \u001b[49m\u001b[38;5;28;43;01mFalse\u001b[39;49;00m\u001b[43m)\u001b[49m\u001b[43m,\u001b[49m\n\u001b[1;32m   1886\u001b[0m \u001b[43m    \u001b[49m\u001b[43mis_text\u001b[49m\u001b[38;5;241;43m=\u001b[39;49m\u001b[43mis_text\u001b[49m\u001b[43m,\u001b[49m\n\u001b[1;32m   1887\u001b[0m \u001b[43m    \u001b[49m\u001b[43merrors\u001b[49m\u001b[38;5;241;43m=\u001b[39;49m\u001b[38;5;28;43mself\u001b[39;49m\u001b[38;5;241;43m.\u001b[39;49m\u001b[43moptions\u001b[49m\u001b[38;5;241;43m.\u001b[39;49m\u001b[43mget\u001b[49m\u001b[43m(\u001b[49m\u001b[38;5;124;43m\"\u001b[39;49m\u001b[38;5;124;43mencoding_errors\u001b[39;49m\u001b[38;5;124;43m\"\u001b[39;49m\u001b[43m,\u001b[49m\u001b[43m \u001b[49m\u001b[38;5;124;43m\"\u001b[39;49m\u001b[38;5;124;43mstrict\u001b[39;49m\u001b[38;5;124;43m\"\u001b[39;49m\u001b[43m)\u001b[49m\u001b[43m,\u001b[49m\n\u001b[1;32m   1888\u001b[0m \u001b[43m    \u001b[49m\u001b[43mstorage_options\u001b[49m\u001b[38;5;241;43m=\u001b[39;49m\u001b[38;5;28;43mself\u001b[39;49m\u001b[38;5;241;43m.\u001b[39;49m\u001b[43moptions\u001b[49m\u001b[38;5;241;43m.\u001b[39;49m\u001b[43mget\u001b[49m\u001b[43m(\u001b[49m\u001b[38;5;124;43m\"\u001b[39;49m\u001b[38;5;124;43mstorage_options\u001b[39;49m\u001b[38;5;124;43m\"\u001b[39;49m\u001b[43m,\u001b[49m\u001b[43m \u001b[49m\u001b[38;5;28;43;01mNone\u001b[39;49;00m\u001b[43m)\u001b[49m\u001b[43m,\u001b[49m\n\u001b[1;32m   1889\u001b[0m \u001b[43m\u001b[49m\u001b[43m)\u001b[49m\n\u001b[1;32m   1890\u001b[0m \u001b[38;5;28;01massert\u001b[39;00m \u001b[38;5;28mself\u001b[39m\u001b[38;5;241m.\u001b[39mhandles \u001b[38;5;129;01mis\u001b[39;00m \u001b[38;5;129;01mnot\u001b[39;00m \u001b[38;5;28;01mNone\u001b[39;00m\n\u001b[1;32m   1891\u001b[0m f \u001b[38;5;241m=\u001b[39m \u001b[38;5;28mself\u001b[39m\u001b[38;5;241m.\u001b[39mhandles\u001b[38;5;241m.\u001b[39mhandle\n",
      "File \u001b[0;32m/home/betin/anaconda3/lib/python3.12/site-packages/pandas/io/common.py:873\u001b[0m, in \u001b[0;36mget_handle\u001b[0;34m(path_or_buf, mode, encoding, compression, memory_map, is_text, errors, storage_options)\u001b[0m\n\u001b[1;32m    868\u001b[0m \u001b[38;5;28;01melif\u001b[39;00m \u001b[38;5;28misinstance\u001b[39m(handle, \u001b[38;5;28mstr\u001b[39m):\n\u001b[1;32m    869\u001b[0m     \u001b[38;5;66;03m# Check whether the filename is to be opened in binary mode.\u001b[39;00m\n\u001b[1;32m    870\u001b[0m     \u001b[38;5;66;03m# Binary mode does not support 'encoding' and 'newline'.\u001b[39;00m\n\u001b[1;32m    871\u001b[0m     \u001b[38;5;28;01mif\u001b[39;00m ioargs\u001b[38;5;241m.\u001b[39mencoding \u001b[38;5;129;01mand\u001b[39;00m \u001b[38;5;124m\"\u001b[39m\u001b[38;5;124mb\u001b[39m\u001b[38;5;124m\"\u001b[39m \u001b[38;5;129;01mnot\u001b[39;00m \u001b[38;5;129;01min\u001b[39;00m ioargs\u001b[38;5;241m.\u001b[39mmode:\n\u001b[1;32m    872\u001b[0m         \u001b[38;5;66;03m# Encoding\u001b[39;00m\n\u001b[0;32m--> 873\u001b[0m         handle \u001b[38;5;241m=\u001b[39m \u001b[38;5;28;43mopen\u001b[39;49m\u001b[43m(\u001b[49m\n\u001b[1;32m    874\u001b[0m \u001b[43m            \u001b[49m\u001b[43mhandle\u001b[49m\u001b[43m,\u001b[49m\n\u001b[1;32m    875\u001b[0m \u001b[43m            \u001b[49m\u001b[43mioargs\u001b[49m\u001b[38;5;241;43m.\u001b[39;49m\u001b[43mmode\u001b[49m\u001b[43m,\u001b[49m\n\u001b[1;32m    876\u001b[0m \u001b[43m            \u001b[49m\u001b[43mencoding\u001b[49m\u001b[38;5;241;43m=\u001b[39;49m\u001b[43mioargs\u001b[49m\u001b[38;5;241;43m.\u001b[39;49m\u001b[43mencoding\u001b[49m\u001b[43m,\u001b[49m\n\u001b[1;32m    877\u001b[0m \u001b[43m            \u001b[49m\u001b[43merrors\u001b[49m\u001b[38;5;241;43m=\u001b[39;49m\u001b[43merrors\u001b[49m\u001b[43m,\u001b[49m\n\u001b[1;32m    878\u001b[0m \u001b[43m            \u001b[49m\u001b[43mnewline\u001b[49m\u001b[38;5;241;43m=\u001b[39;49m\u001b[38;5;124;43m\"\u001b[39;49m\u001b[38;5;124;43m\"\u001b[39;49m\u001b[43m,\u001b[49m\n\u001b[1;32m    879\u001b[0m \u001b[43m        \u001b[49m\u001b[43m)\u001b[49m\n\u001b[1;32m    880\u001b[0m     \u001b[38;5;28;01melse\u001b[39;00m:\n\u001b[1;32m    881\u001b[0m         \u001b[38;5;66;03m# Binary mode\u001b[39;00m\n\u001b[1;32m    882\u001b[0m         handle \u001b[38;5;241m=\u001b[39m \u001b[38;5;28mopen\u001b[39m(handle, ioargs\u001b[38;5;241m.\u001b[39mmode)\n",
      "\u001b[0;31mFileNotFoundError\u001b[0m: [Errno 2] No such file or directory: 'taxonomy_extracted/data/taxonomy.tsv'"
     ]
    }
   ],
   "source": [
    "import zipfile\n",
    "import pandas as pd\n",
    "import matplotlib.pyplot as plt\n",
    "import seaborn as sns\n",
    "import os\n",
    "\n",
    "# Paths to QIIME 2 artifacts\n",
    "taxonomy_qza = \"taxonomy.qza\"\n",
    "feature_table_qza = \"dada2_table.qza\"\n",
    "extract_dir_tax = \"taxonomy_extracted\"\n",
    "extract_dir_table = \"table_extracted\"\n",
    "\n",
    "# Extract taxonomy.qza\n",
    "with zipfile.ZipFile(taxonomy_qza, 'r') as zip_ref:\n",
    "    zip_ref.extractall(extract_dir_tax)\n",
    "\n",
    "# Extract feature-table.qza\n",
    "with zipfile.ZipFile(feature_table_qza, 'r') as zip_ref:\n",
    "    zip_ref.extractall(extract_dir_table)\n",
    "\n",
    "# Load taxonomy.tsv\n",
    "taxonomy_fp = os.path.join(extract_dir_tax, \"data\", \"taxonomy.tsv\")\n",
    "taxonomy_df = pd.read_csv(taxonomy_fp, sep='\\t')\n",
    "\n",
    "# Load feature table biom (converting to TSV first)\n",
    "biom_fp = os.path.join(extract_dir_table, \"data\", \"feature-table.tsv\")\n",
    "feature_table_df = pd.read_csv(biom_fp, sep='\\t', skiprows=1, index_col=0)\n",
    "\n",
    "# Parse taxonomy strings\n",
    "def split_taxonomy(tax_str):\n",
    "    levels = tax_str.split(';')\n",
    "    return {level[:2]: level[3:] if len(level) > 3 else 'Unassigned' for level in levels}\n",
    "\n",
    "taxonomy_split_df = taxonomy_df['Taxon'].apply(split_taxonomy).apply(pd.Series)\n",
    "taxonomy_split_df['Feature ID'] = taxonomy_df['Feature ID']\n",
    "taxonomy_split_df.set_index('Feature ID', inplace=True)\n",
    "\n",
    "# Merge feature table with taxonomy\n",
    "merged_df = feature_table_df.T.merge(taxonomy_split_df, left_index=True, right_index=True, how='left')\n",
    "\n",
    "# Function to plot stacked bar chart\n",
    "def plot_stacked_bar(df, level, top_n=10):\n",
    "    level_df = df.groupby(level).sum()\n",
    "    level_df = level_df.div(level_df.sum(axis=0), axis=1)  # Convert to relative abundance\n",
    "    top_taxa = level_df.sum(axis=1).nlargest(top_n).index  # Get top taxa\n",
    "    level_df = level_df.loc[top_taxa]\n",
    "    \n",
    "    level_df.T.plot(kind='bar', stacked=True, figsize=(12, 6), colormap='tab20')\n",
    "    plt.title(f\"Relative Abundance at {level} Level\")\n",
    "    plt.ylabel(\"Relative Abundance\")\n",
    "    plt.xlabel(\"Samples\")\n",
    "    plt.legend(title=level, bbox_to_anchor=(1.05, 1), loc='upper left')\n",
    "    plt.tight_layout()\n",
    "    plt.show()\n",
    "\n",
    "# Plot stacked bar charts for each taxonomic level\n",
    "for lvl in ['k', 'p', 'c', 'o', 'f', 'g']:  # Kingdom to Genus\n",
    "    plot_stacked_bar(merged_df, lvl)\n"
   ]
  },
  {
   "cell_type": "code",
   "execution_count": 3,
   "id": "d2d5701f-1e63-4ff1-bf47-b2b29d5aca00",
   "metadata": {},
   "outputs": [
    {
     "name": "stdout",
     "output_type": "stream",
     "text": [
      "Files in taxonomy.qza:\n",
      " ['32001b3e-f4d7-4f22-bfe8-57021eac6ee1/VERSION', '32001b3e-f4d7-4f22-bfe8-57021eac6ee1/checksums.md5', '32001b3e-f4d7-4f22-bfe8-57021eac6ee1/metadata.yaml', '32001b3e-f4d7-4f22-bfe8-57021eac6ee1/provenance/VERSION', '32001b3e-f4d7-4f22-bfe8-57021eac6ee1/provenance/citations.bib', '32001b3e-f4d7-4f22-bfe8-57021eac6ee1/provenance/metadata.yaml', '32001b3e-f4d7-4f22-bfe8-57021eac6ee1/provenance/artifacts/3d95f079-b580-4bce-8c28-8b8a437be0d6/VERSION', '32001b3e-f4d7-4f22-bfe8-57021eac6ee1/provenance/artifacts/3d95f079-b580-4bce-8c28-8b8a437be0d6/citations.bib', '32001b3e-f4d7-4f22-bfe8-57021eac6ee1/provenance/artifacts/3d95f079-b580-4bce-8c28-8b8a437be0d6/metadata.yaml', '32001b3e-f4d7-4f22-bfe8-57021eac6ee1/provenance/artifacts/3d95f079-b580-4bce-8c28-8b8a437be0d6/action/action.yaml', '32001b3e-f4d7-4f22-bfe8-57021eac6ee1/provenance/artifacts/9fb9a8c4-703f-4578-bae4-6d546b2b9eae/VERSION', '32001b3e-f4d7-4f22-bfe8-57021eac6ee1/provenance/artifacts/9fb9a8c4-703f-4578-bae4-6d546b2b9eae/citations.bib', '32001b3e-f4d7-4f22-bfe8-57021eac6ee1/provenance/artifacts/9fb9a8c4-703f-4578-bae4-6d546b2b9eae/metadata.yaml', '32001b3e-f4d7-4f22-bfe8-57021eac6ee1/provenance/artifacts/9fb9a8c4-703f-4578-bae4-6d546b2b9eae/action/action.yaml', '32001b3e-f4d7-4f22-bfe8-57021eac6ee1/provenance/artifacts/70b4b5f4-8fce-40bd-b508-afacbc12a5ed/VERSION', '32001b3e-f4d7-4f22-bfe8-57021eac6ee1/provenance/artifacts/70b4b5f4-8fce-40bd-b508-afacbc12a5ed/citations.bib', '32001b3e-f4d7-4f22-bfe8-57021eac6ee1/provenance/artifacts/70b4b5f4-8fce-40bd-b508-afacbc12a5ed/metadata.yaml', '32001b3e-f4d7-4f22-bfe8-57021eac6ee1/provenance/artifacts/70b4b5f4-8fce-40bd-b508-afacbc12a5ed/action/action.yaml', '32001b3e-f4d7-4f22-bfe8-57021eac6ee1/provenance/artifacts/4453176e-ac4e-4dde-94e4-9f5d7859efae/VERSION', '32001b3e-f4d7-4f22-bfe8-57021eac6ee1/provenance/artifacts/4453176e-ac4e-4dde-94e4-9f5d7859efae/citations.bib', '32001b3e-f4d7-4f22-bfe8-57021eac6ee1/provenance/artifacts/4453176e-ac4e-4dde-94e4-9f5d7859efae/metadata.yaml', '32001b3e-f4d7-4f22-bfe8-57021eac6ee1/provenance/artifacts/4453176e-ac4e-4dde-94e4-9f5d7859efae/action/action.yaml', '32001b3e-f4d7-4f22-bfe8-57021eac6ee1/provenance/artifacts/2906b676-703a-4d36-a3ba-12c78660bef0/VERSION', '32001b3e-f4d7-4f22-bfe8-57021eac6ee1/provenance/artifacts/2906b676-703a-4d36-a3ba-12c78660bef0/citations.bib', '32001b3e-f4d7-4f22-bfe8-57021eac6ee1/provenance/artifacts/2906b676-703a-4d36-a3ba-12c78660bef0/metadata.yaml', '32001b3e-f4d7-4f22-bfe8-57021eac6ee1/provenance/artifacts/2906b676-703a-4d36-a3ba-12c78660bef0/action/action.yaml', '32001b3e-f4d7-4f22-bfe8-57021eac6ee1/provenance/artifacts/97bd3f4b-3789-44e4-b25e-7cd873a4a70b/VERSION', '32001b3e-f4d7-4f22-bfe8-57021eac6ee1/provenance/artifacts/97bd3f4b-3789-44e4-b25e-7cd873a4a70b/citations.bib', '32001b3e-f4d7-4f22-bfe8-57021eac6ee1/provenance/artifacts/97bd3f4b-3789-44e4-b25e-7cd873a4a70b/metadata.yaml', '32001b3e-f4d7-4f22-bfe8-57021eac6ee1/provenance/artifacts/97bd3f4b-3789-44e4-b25e-7cd873a4a70b/action/action.yaml', '32001b3e-f4d7-4f22-bfe8-57021eac6ee1/provenance/artifacts/adfad57c-d89b-4cfb-bafc-16dd3291ff45/VERSION', '32001b3e-f4d7-4f22-bfe8-57021eac6ee1/provenance/artifacts/adfad57c-d89b-4cfb-bafc-16dd3291ff45/citations.bib', '32001b3e-f4d7-4f22-bfe8-57021eac6ee1/provenance/artifacts/adfad57c-d89b-4cfb-bafc-16dd3291ff45/metadata.yaml', '32001b3e-f4d7-4f22-bfe8-57021eac6ee1/provenance/artifacts/adfad57c-d89b-4cfb-bafc-16dd3291ff45/action/action.yaml', '32001b3e-f4d7-4f22-bfe8-57021eac6ee1/provenance/artifacts/9e66aa3d-0669-4fdf-a9a3-5c9655080851/VERSION', '32001b3e-f4d7-4f22-bfe8-57021eac6ee1/provenance/artifacts/9e66aa3d-0669-4fdf-a9a3-5c9655080851/citations.bib', '32001b3e-f4d7-4f22-bfe8-57021eac6ee1/provenance/artifacts/9e66aa3d-0669-4fdf-a9a3-5c9655080851/metadata.yaml', '32001b3e-f4d7-4f22-bfe8-57021eac6ee1/provenance/artifacts/9e66aa3d-0669-4fdf-a9a3-5c9655080851/action/action.yaml', '32001b3e-f4d7-4f22-bfe8-57021eac6ee1/provenance/artifacts/033c095a-e281-4d75-832a-92aa8f883146/VERSION', '32001b3e-f4d7-4f22-bfe8-57021eac6ee1/provenance/artifacts/033c095a-e281-4d75-832a-92aa8f883146/citations.bib', '32001b3e-f4d7-4f22-bfe8-57021eac6ee1/provenance/artifacts/033c095a-e281-4d75-832a-92aa8f883146/metadata.yaml', '32001b3e-f4d7-4f22-bfe8-57021eac6ee1/provenance/artifacts/033c095a-e281-4d75-832a-92aa8f883146/action/action.yaml', '32001b3e-f4d7-4f22-bfe8-57021eac6ee1/provenance/artifacts/0e9ef7c4-65a0-408a-859a-b9ce2548e1f8/VERSION', '32001b3e-f4d7-4f22-bfe8-57021eac6ee1/provenance/artifacts/0e9ef7c4-65a0-408a-859a-b9ce2548e1f8/citations.bib', '32001b3e-f4d7-4f22-bfe8-57021eac6ee1/provenance/artifacts/0e9ef7c4-65a0-408a-859a-b9ce2548e1f8/metadata.yaml', '32001b3e-f4d7-4f22-bfe8-57021eac6ee1/provenance/artifacts/0e9ef7c4-65a0-408a-859a-b9ce2548e1f8/action/action.yaml', '32001b3e-f4d7-4f22-bfe8-57021eac6ee1/provenance/artifacts/4b3e461f-976c-4389-8a9a-3b29ec21eab6/VERSION', '32001b3e-f4d7-4f22-bfe8-57021eac6ee1/provenance/artifacts/4b3e461f-976c-4389-8a9a-3b29ec21eab6/citations.bib', '32001b3e-f4d7-4f22-bfe8-57021eac6ee1/provenance/artifacts/4b3e461f-976c-4389-8a9a-3b29ec21eab6/metadata.yaml', '32001b3e-f4d7-4f22-bfe8-57021eac6ee1/provenance/artifacts/4b3e461f-976c-4389-8a9a-3b29ec21eab6/action/action.yaml', '32001b3e-f4d7-4f22-bfe8-57021eac6ee1/provenance/artifacts/a3b524a7-9e51-49ff-8fca-89704b662ae2/VERSION', '32001b3e-f4d7-4f22-bfe8-57021eac6ee1/provenance/artifacts/a3b524a7-9e51-49ff-8fca-89704b662ae2/citations.bib', '32001b3e-f4d7-4f22-bfe8-57021eac6ee1/provenance/artifacts/a3b524a7-9e51-49ff-8fca-89704b662ae2/metadata.yaml', '32001b3e-f4d7-4f22-bfe8-57021eac6ee1/provenance/artifacts/a3b524a7-9e51-49ff-8fca-89704b662ae2/action/action.yaml', '32001b3e-f4d7-4f22-bfe8-57021eac6ee1/provenance/artifacts/749e9655-042b-448e-ac0d-be2adbf51148/VERSION', '32001b3e-f4d7-4f22-bfe8-57021eac6ee1/provenance/artifacts/749e9655-042b-448e-ac0d-be2adbf51148/citations.bib', '32001b3e-f4d7-4f22-bfe8-57021eac6ee1/provenance/artifacts/749e9655-042b-448e-ac0d-be2adbf51148/metadata.yaml', '32001b3e-f4d7-4f22-bfe8-57021eac6ee1/provenance/artifacts/749e9655-042b-448e-ac0d-be2adbf51148/action/action.yaml', '32001b3e-f4d7-4f22-bfe8-57021eac6ee1/provenance/artifacts/bbcd7b8b-b73d-42d3-95f9-7928c4c65552/VERSION', '32001b3e-f4d7-4f22-bfe8-57021eac6ee1/provenance/artifacts/bbcd7b8b-b73d-42d3-95f9-7928c4c65552/citations.bib', '32001b3e-f4d7-4f22-bfe8-57021eac6ee1/provenance/artifacts/bbcd7b8b-b73d-42d3-95f9-7928c4c65552/metadata.yaml', '32001b3e-f4d7-4f22-bfe8-57021eac6ee1/provenance/artifacts/bbcd7b8b-b73d-42d3-95f9-7928c4c65552/action/action.yaml', '32001b3e-f4d7-4f22-bfe8-57021eac6ee1/provenance/artifacts/2c4f2fe8-11c2-4d3b-92c5-cb3c205352fe/VERSION', '32001b3e-f4d7-4f22-bfe8-57021eac6ee1/provenance/artifacts/2c4f2fe8-11c2-4d3b-92c5-cb3c205352fe/citations.bib', '32001b3e-f4d7-4f22-bfe8-57021eac6ee1/provenance/artifacts/2c4f2fe8-11c2-4d3b-92c5-cb3c205352fe/metadata.yaml', '32001b3e-f4d7-4f22-bfe8-57021eac6ee1/provenance/artifacts/2c4f2fe8-11c2-4d3b-92c5-cb3c205352fe/action/action.yaml', '32001b3e-f4d7-4f22-bfe8-57021eac6ee1/provenance/action/action.yaml', '32001b3e-f4d7-4f22-bfe8-57021eac6ee1/data/taxonomy.tsv']\n",
      "\n",
      "Files in feature-table.qza:\n",
      " ['faedecd2-1e76-41eb-9e38-45aefa3f75bc/VERSION', 'faedecd2-1e76-41eb-9e38-45aefa3f75bc/checksums.md5', 'faedecd2-1e76-41eb-9e38-45aefa3f75bc/metadata.yaml', 'faedecd2-1e76-41eb-9e38-45aefa3f75bc/provenance/VERSION', 'faedecd2-1e76-41eb-9e38-45aefa3f75bc/provenance/citations.bib', 'faedecd2-1e76-41eb-9e38-45aefa3f75bc/provenance/metadata.yaml', 'faedecd2-1e76-41eb-9e38-45aefa3f75bc/provenance/artifacts/033c095a-e281-4d75-832a-92aa8f883146/VERSION', 'faedecd2-1e76-41eb-9e38-45aefa3f75bc/provenance/artifacts/033c095a-e281-4d75-832a-92aa8f883146/citations.bib', 'faedecd2-1e76-41eb-9e38-45aefa3f75bc/provenance/artifacts/033c095a-e281-4d75-832a-92aa8f883146/metadata.yaml', 'faedecd2-1e76-41eb-9e38-45aefa3f75bc/provenance/artifacts/033c095a-e281-4d75-832a-92aa8f883146/action/action.yaml', 'faedecd2-1e76-41eb-9e38-45aefa3f75bc/provenance/action/action.yaml', 'faedecd2-1e76-41eb-9e38-45aefa3f75bc/data/feature-table.biom']\n"
     ]
    }
   ],
   "source": [
    "import zipfile\n",
    "import os\n",
    "\n",
    "# Paths\n",
    "taxonomy_qza = \"taxonomy.qza\"\n",
    "feature_table_qza = \"dada2_table.qza\"\n",
    "\n",
    "# Function to list contents\n",
    "def list_qza_contents(qza_path):\n",
    "    with zipfile.ZipFile(qza_path, 'r') as zip_ref:\n",
    "        file_list = zip_ref.namelist()\n",
    "    return file_list\n",
    "\n",
    "# List contents\n",
    "taxonomy_files = list_qza_contents(taxonomy_qza)\n",
    "feature_table_files = list_qza_contents(feature_table_qza)\n",
    "\n",
    "print(\"Files in taxonomy.qza:\\n\", taxonomy_files)\n",
    "print(\"\\nFiles in feature-table.qza:\\n\", feature_table_files)\n"
   ]
  },
  {
   "cell_type": "code",
   "execution_count": null,
   "id": "28e0e1fc-1e6a-49ef-b660-3da9c0473b22",
   "metadata": {},
   "outputs": [],
   "source": []
  }
 ],
 "metadata": {
  "kernelspec": {
   "display_name": "Python 3 (ipykernel)",
   "language": "python",
   "name": "python3"
  },
  "language_info": {
   "codemirror_mode": {
    "name": "ipython",
    "version": 3
   },
   "file_extension": ".py",
   "mimetype": "text/x-python",
   "name": "python",
   "nbconvert_exporter": "python",
   "pygments_lexer": "ipython3",
   "version": "3.12.8"
  }
 },
 "nbformat": 4,
 "nbformat_minor": 5
}
